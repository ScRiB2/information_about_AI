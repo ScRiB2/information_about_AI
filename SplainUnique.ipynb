{
 "cells": [
  {
   "cell_type": "code",
   "execution_count": 1,
   "metadata": {},
   "outputs": [
    {
     "name": "stderr",
     "output_type": "stream",
     "text": [
      "c:\\users\\scrib\\appdata\\local\\programs\\python\\python37-32\\lib\\site-packages\\sklearn\\externals\\six.py:31: DeprecationWarning: The module is deprecated in version 0.21 and will be removed in version 0.23 since we've dropped support for Python 2.7. Please rely on the official version of six (https://pypi.org/project/six/).\n",
      "  \"(https://pypi.org/project/six/).\", DeprecationWarning)\n",
      "c:\\users\\scrib\\appdata\\local\\programs\\python\\python37-32\\lib\\site-packages\\sklearn\\externals\\joblib\\__init__.py:15: DeprecationWarning: sklearn.externals.joblib is deprecated in 0.21 and will be removed in 0.23. Please import this functionality directly from joblib, which can be installed with: pip install joblib. If this warning is raised when loading pickled models, you may need to re-serialize those models with scikit-learn 0.21+.\n",
      "  warnings.warn(msg, category=DeprecationWarning)\n"
     ]
    }
   ],
   "source": [
    "import pandas as pd\n",
    "import mglearn\n",
    "import numpy as np\n",
    "import matplotlib.pyplot as plt\n",
    "\n",
    "pd.options.display.max_columns = 200\n",
    "\n",
    "from matplotlib import rcParams\n",
    "rcParams['figure.figsize'] = 14, 12\n",
    "rcParams['font.size'] = 16\n",
    "rcParams['axes.labelsize'] = 14\n",
    "rcParams['xtick.labelsize'] = 13\n",
    "rcParams['ytick.labelsize'] = 13\n",
    "rcParams['legend.fontsize'] = 15\n",
    "\n",
    "import seaborn as sns\n",
    "sns.set_style(\"whitegrid\")"
   ]
  },
  {
   "cell_type": "code",
   "execution_count": 3,
   "metadata": {},
   "outputs": [
    {
     "data": {
      "image/png": "[encoded data removed]",
      "text/plain": [
       "<Figure size 432x288 with 1 Axes>"
      ]
     },
     "metadata": {
      "needs_background": "light"
     },
     "output_type": "display_data"
    }
   ],
   "source": [
    "a = -3\n",
    "b = 3\n",
    "n = 7 # количество точек\n",
    "x = np.linspace(a, b, n)\n",
    "y = x ** 2\n",
    "plt.plot(x, y)\n",
    "A = 0\n",
    "B = 0\n",
    "h = x[1]-x[0]"
   ]
  },
  {
   "cell_type": "code",
   "execution_count": 4,
   "metadata": {},
   "outputs": [
    {
     "name": "stdout",
     "output_type": "stream",
     "text": [
      "[[1.0, 0, 0, 0, 0, 0, 0], [1.0, 4.0, 1.0, 0, 0, 0, 0], [0, 1.0, 4.0, 1.0, 0, 0, 0], [0, 0, 1.0, 4.0, 1.0, 0, 0], [0, 0, 0, 1.0, 4.0, 1.0, 0], [0, 0, 0, 0, 1.0, 4.0, 1.0], [0, 0, 0, 0, 0, 0, 1.0]]\n",
      "[9.0, 12.0, 12.0, 12.0, 12.0, 12.0, 9.0]\n",
      "C\n",
      "[0, 3.0, 2.25, 2.4375, 2.390625, 2.40234375, 0]\n"
     ]
    },
    {
     "ename": "TypeError",
     "evalue": "'int' object is not subscriptable",
     "output_type": "error",
     "traceback": [
      "\u001b[1;31m---------------------------------------------------------------------------\u001b[0m",
      "\u001b[1;31mTypeError\u001b[0m                                 Traceback (most recent call last)",
      "\u001b[1;32m<ipython-input-4-49d71118bda3>\u001b[0m in \u001b[0;36m<module>\u001b[1;34m\u001b[0m\n\u001b[0;32m    142\u001b[0m \u001b[0mh\u001b[0m \u001b[1;33m=\u001b[0m \u001b[0mx\u001b[0m\u001b[1;33m[\u001b[0m\u001b[1;36m1\u001b[0m\u001b[1;33m]\u001b[0m\u001b[1;33m-\u001b[0m\u001b[0mx\u001b[0m\u001b[1;33m[\u001b[0m\u001b[1;36m0\u001b[0m\u001b[1;33m]\u001b[0m\u001b[1;33m\u001b[0m\u001b[1;33m\u001b[0m\u001b[0m\n\u001b[0;32m    143\u001b[0m \u001b[1;33m\u001b[0m\u001b[0m\n\u001b[1;32m--> 144\u001b[1;33m \u001b[0myy\u001b[0m \u001b[1;33m=\u001b[0m \u001b[0mmycubic10\u001b[0m\u001b[1;33m(\u001b[0m\u001b[0mx\u001b[0m\u001b[1;33m,\u001b[0m \u001b[0my\u001b[0m\u001b[1;33m,\u001b[0m \u001b[0mxx\u001b[0m\u001b[1;33m,\u001b[0m \u001b[0mA\u001b[0m\u001b[1;33m,\u001b[0m \u001b[0mB\u001b[0m\u001b[1;33m)\u001b[0m\u001b[1;33m;\u001b[0m\u001b[1;33m\u001b[0m\u001b[1;33m\u001b[0m\u001b[0m\n\u001b[0m",
      "\u001b[1;32m<ipython-input-4-49d71118bda3>\u001b[0m in \u001b[0;36mmycubic10\u001b[1;34m(x, y, xx, A, B)\u001b[0m\n\u001b[0;32m     38\u001b[0m             \u001b[0mind\u001b[0m \u001b[1;33m=\u001b[0m \u001b[0mk\u001b[0m\u001b[1;33m\u001b[0m\u001b[1;33m\u001b[0m\u001b[0m\n\u001b[0;32m     39\u001b[0m         \u001b[1;31m# вычисляем значения соответствующего полинома\u001b[0m\u001b[1;33m\u001b[0m\u001b[1;33m\u001b[0m\u001b[1;33m\u001b[0m\u001b[0m\n\u001b[1;32m---> 40\u001b[1;33m         \u001b[0myy\u001b[0m\u001b[1;33m.\u001b[0m\u001b[0mappend\u001b[0m\u001b[1;33m(\u001b[0m\u001b[0mind\u001b[0m\u001b[1;33m,\u001b[0m \u001b[0ma\u001b[0m\u001b[1;33m[\u001b[0m\u001b[0mk\u001b[0m\u001b[1;33m]\u001b[0m \u001b[1;33m+\u001b[0m \u001b[0mb\u001b[0m\u001b[1;33m[\u001b[0m\u001b[0mk\u001b[0m\u001b[1;33m]\u001b[0m\u001b[1;33m*\u001b[0m\u001b[1;33m(\u001b[0m\u001b[0mxx\u001b[0m\u001b[1;33m[\u001b[0m\u001b[0mind\u001b[0m\u001b[1;33m]\u001b[0m\u001b[1;33m-\u001b[0m\u001b[0mx\u001b[0m\u001b[1;33m[\u001b[0m\u001b[0mk\u001b[0m\u001b[1;33m]\u001b[0m\u001b[1;33m)\u001b[0m \u001b[1;33m+\u001b[0m \u001b[0mc\u001b[0m\u001b[1;33m[\u001b[0m\u001b[0mk\u001b[0m\u001b[1;33m]\u001b[0m\u001b[1;33m*\u001b[0m\u001b[1;33m(\u001b[0m\u001b[0mxx\u001b[0m\u001b[1;33m[\u001b[0m\u001b[0mind\u001b[0m\u001b[1;33m]\u001b[0m\u001b[1;33m-\u001b[0m\u001b[0mx\u001b[0m\u001b[1;33m[\u001b[0m\u001b[0mk\u001b[0m\u001b[1;33m]\u001b[0m\u001b[1;33m)\u001b[0m \u001b[1;33m**\u001b[0m \u001b[1;36m2\u001b[0m \u001b[1;33m+\u001b[0m \u001b[0md\u001b[0m\u001b[1;33m[\u001b[0m\u001b[0mk\u001b[0m\u001b[1;33m]\u001b[0m\u001b[1;33m*\u001b[0m\u001b[1;33m(\u001b[0m\u001b[0mxx\u001b[0m\u001b[1;33m[\u001b[0m\u001b[0mind\u001b[0m\u001b[1;33m]\u001b[0m\u001b[1;33m-\u001b[0m\u001b[0mx\u001b[0m\u001b[1;33m[\u001b[0m\u001b[0mk\u001b[0m\u001b[1;33m]\u001b[0m\u001b[1;33m)\u001b[0m \u001b[1;33m**\u001b[0m \u001b[1;36m3\u001b[0m\u001b[1;33m)\u001b[0m\u001b[1;33m\u001b[0m\u001b[1;33m\u001b[0m\u001b[0m\n\u001b[0m\u001b[0;32m     41\u001b[0m     \u001b[1;32mreturn\u001b[0m \u001b[0myy\u001b[0m\u001b[1;33m\u001b[0m\u001b[1;33m\u001b[0m\u001b[0m\n\u001b[0;32m     42\u001b[0m \u001b[1;33m\u001b[0m\u001b[0m\n",
      "\u001b[1;31mTypeError\u001b[0m: 'int' object is not subscriptable"
     ]
    },
    {
     "data": {
      "image/png": "[encoded data removed]",
      "text/plain": [
       "<Figure size 432x288 with 1 Axes>"
      ]
     },
     "metadata": {
      "needs_background": "light"
     },
     "output_type": "display_data"
    }
   ],
   "source": [
    "def mycubic10(x, y, xx, A, B):\n",
    "    # Вычисление коэффициентов кубического сплайна и его значений в заданных точках\n",
    "\n",
    "    # Входные аргументы\n",
    "    #    x, y – узлы интерполяции\n",
    "    #    xx – значения аргумента, для которых надо вычислить кубический сплайн\n",
    "    #  Выходные аргументы  \n",
    "    #    yy – значения сплайна в xx\n",
    "    #    С – матрица коэффициентов кубических полиномов\n",
    "    #    С = [d(1)      c(1)       b(1)       a1\n",
    "    #            d(2)      c(2)       b(2)       a2 \n",
    "    #             ...\n",
    "    #            d(n-1)   c(n-1)   b(n-1)    a(n-1) ];\n",
    "\n",
    "    # находим число узлов интерполяции\n",
    "    n = len(x);\n",
    "\n",
    "    # преобразуем массивы узлов в вектор-столбцы\n",
    "    #x = x(:);\n",
    "    #y = y(:);\n",
    "\n",
    "    # находим коэффициенты полиномов, образующих сплайн\n",
    "    #[d, c, b, a]  = CalcCoeffs(x, y);\n",
    "    C  = CalcCoeffs(x, y, A, B);\n",
    "    # записываем найденные коэффициенты в матрицу\n",
    "    #C = [d c b a];\n",
    "\n",
    "    # создаем нулевой вектор для записи значений сплайна\n",
    "    yy = [];\n",
    "\n",
    "    # вычисляем значения сплайна\n",
    "    # в цикле проходим по отрезкам между узлами интерполирования\n",
    "    for k in range(0, n):\n",
    "        # находим индексы элементов массива xx, значения которых \n",
    "        # лежат между x(k) и x(k+1)\n",
    "        ind = -1\n",
    "        if ((xx[k] >= x[k]) & (xx[k+1] <= x[k+1])):\n",
    "            ind = k\n",
    "        # вычисляем значения соответствующего полинома\n",
    "        yy.append(ind, a[k] + b[k]*(xx[ind]-x[k]) + c[k]*(xx[ind]-x[k]) ** 2 + d[k]*(xx[ind]-x[k]) ** 3)\n",
    "    return yy\n",
    "\n",
    "def CalcCoeffs(x, y, A, B, boundary = 1):\n",
    "    # подфункция для вычисления коэффициентов полиномов кубического сплайна\n",
    "        \n",
    "    # находим число узлов\n",
    "    n = len(x)\n",
    "    \n",
    "    #!!!! Как вычисляется h? между изначальными точками?\n",
    "    h = x[1] - x[0]\n",
    "    \n",
    "    gamma1 = 0\n",
    "    alphan = 0\n",
    "    if(boundary == 2):\n",
    "        gamma1 = 1/2\n",
    "    elif(boundary == 3):\n",
    "        alphan = 1/2\n",
    "        \n",
    "    # вычисляем коэффициенты трехдиагональной матрицы\n",
    "    \n",
    "    alpha = []\n",
    "    for i in range(0, n-1):\n",
    "        alpha.insert(i, h)\n",
    "    alpha.insert(n, alphan)\n",
    "    \n",
    "    beta = []\n",
    "    beta.insert(0, 1.)    \n",
    "    for i in range(1, n-1):\n",
    "        beta.insert(i, 2 * (h + h))\n",
    "    beta.insert(n, 1.)\n",
    "    \n",
    "    gamma = []\n",
    "    gamma.insert(0, gamma1)\n",
    "    for i in range(1, n):\n",
    "        gamma.insert(i, h)\n",
    "    \n",
    "    # формируем трехдиагональную матрицу\n",
    "    \n",
    "    D3 = []\n",
    "    for i in range(0,n):\n",
    "        D3.append([])\n",
    "        for j in range(0,n):\n",
    "            D3[i].append([])\n",
    "\n",
    "    for i in range(0,n):\n",
    "        for j in range(0,n):\n",
    "            if (i == j):\n",
    "                D3[i][j] = beta[i]\n",
    "            elif (j == i - 1):\n",
    "                D3[i][j] = alpha[i]\n",
    "            elif (j == i + 1):\n",
    "                D3[i][j] = gamma[i]\n",
    "            else:\n",
    "                D3[i][j] = 0\n",
    "    print(D3)                \n",
    "\n",
    "    # вычисляем правую часть системы\n",
    "    \n",
    "    delta = [];\n",
    "    delta.insert(0, y[0])\n",
    "    for i in range(1, n-1):\n",
    "        delta.insert(i,6*((y[i+1]-y[i])/h - (y[i]-y[i-1]/h)))\n",
    "    delta.insert(n, y[n-1])\n",
    "    print(delta)\n",
    "        \n",
    "    # решаем систему относительно тангенсов углов наклона сплайна в узлах\n",
    "    C = delta\n",
    "    if(boundary == 1):\n",
    "        C[0] = A\n",
    "        for i in range(1,len(delta) - 1):\n",
    "            C[i] = (C[i] - np.dot(D3[i][:i], C[:i]))/D3[i][i]\n",
    "        C[n-1] = B\n",
    "    elif(boundary == 2):\n",
    "        C[0] = 3/h*((y[1] - y[0])/h - A) - 1/2*C[1]\n",
    "    elif(boundary == 3):\n",
    "        C[n-1] = 3/h*(B - (y[n-1] - y[n-2])/h) - 1/2*C[n-2]\n",
    "        \n",
    "    print(\"C\")\n",
    "    print(C)\n",
    "    # расширяем полученный вектор, добавляя граничные условия\n",
    "    #b = [0; b; 0];\n",
    "    # находим остальные коэффициенты полиномов\n",
    "    #a = y(1:n-1);\n",
    "    #c = (3*df - b(2:n) - 2*b(1:n-1))./h;\n",
    "    #d = (b(1:n-1) + b(2:n) - 2*df)./h.^2;\n",
    "    # удаляем последний элемент вектора b, который содержит тангенс угла наклона в x(n),\n",
    "    # т.к. он не является коэффициентом последнего полинома\n",
    "    #b(end) = [];\n",
    "    \n",
    "    \n",
    "#Проверим работу функции mycubic10, проинтерполировав кубическим сплайном (с нулевыми условиями на первую производную на границах отрезка интерполирования) следующую табличную функцию\n",
    "a = -3\n",
    "b = 3\n",
    "n = 7 # количество точек\n",
    "x = np.linspace(a, b, n)\n",
    "y = x ** 2\n",
    "plt.plot(x, y)\n",
    "xx = [0, 0.5]\n",
    "\n",
    "A = 0\n",
    "B = 0\n",
    "h = x[1]-x[0]\n",
    "\n",
    "yy = mycubic10(x, y, xx, A, B);"
   ]
  },
  {
   "cell_type": "code",
   "execution_count": null,
   "metadata": {},
   "outputs": [],
   "source": []
  }
 ],
 "metadata": {
  "kernelspec": {
   "display_name": "Python 3",
   "language": "python",
   "name": "python3"
  },
  "language_info": {
   "codemirror_mode": {
    "name": "ipython",
    "version": 3
   },
   "file_extension": ".py",
   "mimetype": "text/x-python",
   "name": "python",
   "nbconvert_exporter": "python",
   "pygments_lexer": "ipython3",
   "version": "3.7.4"
  }
 },
 "nbformat": 4,
 "nbformat_minor": 2
}
